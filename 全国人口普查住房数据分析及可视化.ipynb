{
 "cells": [
  {
   "cell_type": "code",
   "execution_count": 18,
   "id": "26525469-1f18-4041-a3fb-b9d9e09f896a",
   "metadata": {},
   "outputs": [
    {
     "name": "stdout",
     "output_type": "stream",
     "text": [
      "Requirement already satisfied: pyecharts in d:\\anaconda\\lib\\site-packages (2.0.5)\n",
      "Requirement already satisfied: jinja2 in d:\\anaconda\\lib\\site-packages (from pyecharts) (3.1.3)\n",
      "Requirement already satisfied: prettytable in d:\\anaconda\\lib\\site-packages (from pyecharts) (3.10.0)\n",
      "Requirement already satisfied: simplejson in d:\\anaconda\\lib\\site-packages (from pyecharts) (3.19.2)\n",
      "Requirement already satisfied: MarkupSafe>=2.0 in d:\\anaconda\\lib\\site-packages (from jinja2->pyecharts) (2.1.3)\n",
      "Requirement already satisfied: wcwidth in d:\\anaconda\\lib\\site-packages (from prettytable->pyecharts) (0.2.5)\n",
      "Note: you may need to restart the kernel to use updated packages.\n"
     ]
    }
   ],
   "source": [
    "pip install pyecharts"
   ]
  },
  {
   "cell_type": "code",
   "execution_count": 29,
   "id": "a1ed78ac-9f0b-431e-9003-03083ccb2dba",
   "metadata": {},
   "outputs": [
    {
     "data": {
      "text/plain": [
       "'C:\\\\Users\\\\鋆\\\\Desktop\\\\可视化课设\\\\户均房间数变化折线图.html'"
      ]
     },
     "execution_count": 29,
     "metadata": {},
     "output_type": "execute_result"
    }
   ],
   "source": [
    "import pandas as pd\n",
    "from pyecharts.charts import Line\n",
    "from pyecharts.options import TitleOpts, ToolboxOpts, LegendOpts, AxisOpts\n",
    "\n",
    "df_5th = pd.read_excel(r'数据集\\第五次人口普查\\t0801.xls',header=4)\n",
    "df_6th = pd.read_excel(r'数据集\\第六次人口普查\\A0801a.xls',header=4)\n",
    "df_7th = pd.read_excel(r'数据集\\第七次人口普查\\A0801.xls',header=4)\n",
    "\n",
    "df_5th=df_5th.dropna().head(1)\n",
    "df_6th=df_6th.dropna().head(1)\n",
    "df_7th=df_7th.dropna().head(1)\n",
    "\n",
    "df_5th.iloc[:, 0] = '第五次人口普查全国'\n",
    "current_columns = df_5th.columns.tolist()\n",
    "current_columns [1]='户  数'\n",
    "current_columns [-2]='十间及以上'\n",
    "df_5th.columns = current_columns\n",
    "df_6th.iloc[:, 0] = '第六次人口普查全国'\n",
    "df_7th.iloc[:, 0] = '第七次人口普查全国'\n",
    "\n",
    "combined_df = pd.concat([df_5th, df_6th, df_7th], ignore_index=True)\n",
    "combined_df=combined_df.dropna(axis=1,how='any')\n",
    "\n",
    "# 假设\"一间\"列是第n列，根据实际情况调整n的值\n",
    "start_column_index = 2  # 请将n替换为\"一间\"列的实际索引位置\n",
    "\n",
    "# 计算房间总数的新列\n",
    "combined_df[\"房间总数\"] = 0\n",
    "for i in range(start_column_index, start_column_index + 10):  # 假设从'n'列开始连续10列\n",
    "    combined_df[\"房间总数\"] += (i - start_column_index + 1) * combined_df.iloc[:, i]\n",
    "\n",
    "# 假设\"户数\"列的索引为m，根据实际情况调整m的值\n",
    "household_count_column_index = 1\n",
    "combined_df[\"户均房间数\"] = combined_df[\"房间总数\"] / combined_df.iloc[:, household_count_column_index]\n",
    "\n",
    "x_data = combined_df.iloc[:, 0].tolist()  # 获取第一列数据并转换为列表\n",
    "y_data = combined_df['户均房间数'].tolist() \n",
    "# 初始化折线图\n",
    "line_chart = Line()\n",
    "\n",
    "# 添加数据\n",
    "line_chart.add_xaxis(xaxis_data=x_data)\n",
    "line_chart.add_yaxis(series_name=\"户均房间数\", y_axis=[\"{:.2f}\".format(y) for y in y_data], symbol=\"emptyCircle\", is_symbol_show=True)\n",
    "\n",
    "# 设置全局配置项\n",
    "line_chart.set_global_opts(\n",
    "    title_opts=TitleOpts(title=\"户均房间数变化折线图\",pos_left='center'),\n",
    "    legend_opts=LegendOpts(is_show=False),  # 根据需要显示或隐藏图例，默认展示\n",
    "    toolbox_opts=ToolboxOpts(is_show=True),  # 显示工具箱，包含保存图片等功能\n",
    ")\n",
    "line_chart.width = \"550px\" \n",
    "line_chart.height = \"350px\"\n",
    "# 渲染图表并生成HTML文件\n",
    "line_chart.render(r\"户均房间数变化折线图.html\",width=line_chart.width, height=line_chart.height)"
   ]
  },
  {
   "cell_type": "code",
   "execution_count": 30,
   "id": "9c9c701a-0619-4dc9-b3ee-2a7966a261f3",
   "metadata": {},
   "outputs": [
    {
     "data": {
      "text/plain": [
       "'C:\\\\Users\\\\鋆\\\\Desktop\\\\可视化课设\\\\住房总间数变化堆积柱状图.html'"
      ]
     },
     "execution_count": 30,
     "metadata": {},
     "output_type": "execute_result"
    }
   ],
   "source": [
    "import pandas as pd\n",
    "from pyecharts.charts import Bar\n",
    "from pyecharts.options import TitleOpts, ToolboxOpts, LegendOpts, AxisOpts\n",
    "\n",
    "df_5th = pd.read_excel(r'数据集\\第五次人口普查\\t0801.xls',header=4)\n",
    "df_6th = pd.read_excel(r'数据集\\第六次人口普查\\A0801a.xls',header=4)\n",
    "df_7th = pd.read_excel(r'数据集\\第七次人口普查\\A0801.xls',header=4)\n",
    "\n",
    "df_5th=df_5th.dropna().head(1)\n",
    "df_6th=df_6th.dropna().head(1)\n",
    "df_7th=df_7th.dropna().head(1)\n",
    "\n",
    "df_5th.iloc[:, 0] = '第五次人口普查全国'\n",
    "current_columns = df_5th.columns.tolist()\n",
    "current_columns [1]='户  数'\n",
    "current_columns [-2]='十间及以上'\n",
    "df_5th.columns = current_columns\n",
    "df_6th.iloc[:, 0] = '第六次人口普查全国'\n",
    "df_7th.iloc[:, 0] = '第七次人口普查全国'\n",
    "\n",
    "combined_df = pd.concat([df_5th, df_6th, df_7th], ignore_index=True)\n",
    "combined_df=combined_df.dropna(axis=1,how='any')\n",
    "\n",
    "\n",
    "x_data = combined_df.iloc[:, 0].tolist()\n",
    "y_data_list = [combined_df[col].tolist() for col in combined_df.columns[2:]]  # 从第三列开始选取数据作为y轴数据\n",
    "\n",
    "# 初始化柱状图\n",
    "bar = Bar()\n",
    "\n",
    "# 添加数据，每个系列对应一列的y轴数据\n",
    "for i, y_data in enumerate(y_data_list):\n",
    "    bar.add_yaxis(f\"{i+1}间\", [y * (i+1) for y in y_data], stack=\"总量\")\n",
    "\n",
    "# 设置x轴数据\n",
    "bar.add_xaxis(x_data)\n",
    "\n",
    "# 设置全局配置项，包括y轴的formatter\n",
    "bar.set_global_opts(\n",
    "    title_opts=TitleOpts(title=\"住房总间数变化\", pos_left='center'),\n",
    "    legend_opts=LegendOpts(is_show=True, orient=\"horizontal\", pos_bottom=\"-3%\"),\n",
    "    toolbox_opts=ToolboxOpts(is_show=True),\n",
    "    yaxis_opts=AxisOpts(name=\"间数\",axislabel_opts=opts.LabelOpts(rotate=60)),  # 自定义y轴格式\n",
    ")\n",
    "\n",
    "bar.width = \"580px\" \n",
    "bar.height = \"700px\"\n",
    "\n",
    "# 渲染图表并生成HTML文件\n",
    "bar.render(r\"住房总间数变化堆积柱状图.html\", width=bar.width, height=bar.height)"
   ]
  },
  {
   "cell_type": "code",
   "execution_count": 31,
   "id": "745eac34-332f-4e8e-942a-20330d7dbb15",
   "metadata": {},
   "outputs": [
    {
     "name": "stderr",
     "output_type": "stream",
     "text": [
      "C:\\Users\\鋆\\AppData\\Local\\Temp\\ipykernel_2068\\1089773906.py:38: FutureWarning: Series.__getitem__ treating keys as positions is deprecated. In a future version, integer keys will always be treated as labels (consistent with DataFrame behavior). To access a value by position, use `ser.iloc[pos]`\n",
      "  data = [(row[0], row[-1]) for _, row in combined_df.iterrows()]  # 提取居住地类型和对应的户均房间数\n"
     ]
    },
    {
     "data": {
      "text/plain": [
       "'C:\\\\Users\\\\鋆\\\\Desktop\\\\可视化课设\\\\第七次人口普查户均房间数扇形图.html'"
      ]
     },
     "execution_count": 31,
     "metadata": {},
     "output_type": "execute_result"
    }
   ],
   "source": [
    "import pandas as pd\n",
    "from pyecharts.charts import Pie\n",
    "from pyecharts.options import TitleOpts, LabelOpts\n",
    "\n",
    "#数据导入与预处理\n",
    "df_7th_a = pd.read_excel(r'数据集\\第七次人口普查\\A0801a.xls',header=4)\n",
    "df_7th_b = pd.read_excel(r'数据集\\第七次人口普查\\A0801b.xls',header=4)\n",
    "df_7th_c = pd.read_excel(r'数据集\\第七次人口普查\\A0801c.xls',header=4)\n",
    "df_7th_a=df_7th_a.dropna().head(1)\n",
    "df_7th_b=df_7th_b.dropna().head(1)\n",
    "df_7th_c=df_7th_c.dropna().head(1)\n",
    "df_7th_a.iloc[:, 0] = '城市'\n",
    "current_columns = df_7th_a.columns.tolist()\n",
    "df_7th_a.columns = current_columns\n",
    "df_7th_b.iloc[:, 0] = '镇'\n",
    "current_columns = df_7th_b.columns.tolist()\n",
    "df_7th_b.columns = current_columns\n",
    "df_7th_c.iloc[:, 0] = '乡村'\n",
    "current_columns = df_7th_c.columns.tolist()\n",
    "df_7th_c.columns = current_columns\n",
    "combined_df = pd.concat([df_7th_a, df_7th_b, df_7th_c], ignore_index=True)\n",
    "combined_df=combined_df.dropna(axis=1,how='any')\n",
    "\n",
    "\n",
    "# 计算房间总数的新列\n",
    "combined_df[\"房间总数\"] = 0\n",
    "for i in range(start_column_index, start_column_index + 10):  # 假设从'n'列开始连续10列\n",
    "    combined_df[\"房间总数\"] += (i - start_column_index + 1) * combined_df.iloc[:, i]\n",
    "# 假设\"户数\"列的索引为m，根据实际情况调整m的值\n",
    "household_count_column_index = 1\n",
    "combined_df[\"户均房间数\"] = combined_df[\"房间总数\"] / combined_df.iloc[:, household_count_column_index]\n",
    "\n",
    "x_data = combined_df.iloc[:, 0].tolist()  # 获取第一列数据并转换为列表\n",
    "y_data = combined_df['户均房间数'].tolist() \n",
    "combined_df\n",
    "\n",
    "# 定义扇形图数据\n",
    "data = [(row[0], row[-1]) for _, row in combined_df.iterrows()]  # 提取居住地类型和对应的户均房间数\n",
    "\n",
    "# 初始化扇形图\n",
    "pie_chart = Pie()\n",
    "\n",
    "# 添加数据到扇形图，并直接在add方法中设置标签格式\n",
    "pie_chart.add(\"\", data, \n",
    "             center=[\"50%\", \"50%\"], \n",
    "             radius=[\"40%\", \"60%\"],\n",
    "             label_opts=LabelOpts(formatter=\"{b}: {d}%\"))  # 在这里设置标签格式\n",
    "\n",
    "# 设置全局配置项\n",
    "pie_chart.set_global_opts(\n",
    "    title_opts=TitleOpts(title=\"第七次人口普查户均房间数分布\",pos_left='center'),\n",
    "    legend_opts=LegendOpts(is_show=True, orient=\"vertical\", pos_top=\"middle\", pos_right=\"10%\"),  # 修改了pos_left为pos_right\n",
    ")\n",
    "pie_chart.width = \"500px\" \n",
    "pie_chart.height = \"300px\"\n",
    "# 渲染图表并生成HTML文件\n",
    "pie_chart.render(r\"第七次人口普查户均房间数扇形图.html\",width=pie_chart.width, height=pie_chart.height)"
   ]
  },
  {
   "cell_type": "code",
   "execution_count": 32,
   "id": "f48f31f1-0185-4b1a-bb9b-1eb3301c6e0f",
   "metadata": {},
   "outputs": [
    {
     "data": {
      "text/plain": [
       "'C:\\\\Users\\\\鋆\\\\Desktop\\\\可视化课设\\\\第七次人口普查户均房间数与房间总数地图分布.html'"
      ]
     },
     "execution_count": 32,
     "metadata": {},
     "output_type": "execute_result"
    }
   ],
   "source": [
    "import pandas as pd\n",
    "from pyecharts.charts import Map\n",
    "from pyecharts.options import TitleOpts, LabelOpts, VisualMapOpts\n",
    "\n",
    "# 读取数据\n",
    "df_7th = pd.read_excel(r'数据集\\第七次人口普查\\A0801_2.xls', header=4)\n",
    "df_7th = df_7th.dropna()\n",
    "current_columns = df_7th.columns.tolist()\n",
    "current_columns[0] = '地区'\n",
    "df_7th.columns = current_columns\n",
    "df_7th.drop(index=1, inplace=True)\n",
    "\n",
    "# 计算房间总数\n",
    "df_7th[\"房间总数\"] = 0\n",
    "start_column_index = 3  # 房间数据从第三列开始\n",
    "for i in range(start_column_index, start_column_index + 10):\n",
    "    df_7th[\"房间总数\"] += (i - start_column_index + 1) * df_7th.iloc[:, i]\n",
    "\n",
    "# 计算户均房间数\n",
    "household_count_column_index = 1\n",
    "df_7th[\"户均房间数\"] = df_7th[\"房间总数\"] / df_7th.iloc[:, household_count_column_index]\n",
    "\n",
    "# 处理地区名称\n",
    "df_7th['地区'] = df_7th['地区'].apply(lambda x: x.replace(' ', '') if isinstance(x, str) else x)\n",
    "\n",
    "# 准备地图数据\n",
    "map_data = [(row[\"地区\"], row[\"户均房间数\"]) for _, row in df_7th.iterrows()]\n",
    "\n",
    "# 创建地图图表\n",
    "map_chart = Map()\n",
    "# 添加户均房间数分布数据\n",
    "map_chart.add(\"户均房间数分布\", map_data, \"china\", is_map_symbol_show=False)\n",
    "\n",
    "# 设置全局选项和视觉映射\n",
    "map_chart.set_global_opts(\n",
    "    title_opts=TitleOpts(title=\"第七次人口普查户均房间数与房间总数地图分布\", pos_left='center'),\n",
    "    legend_opts=LegendOpts(is_show=True, orient=\"vertical\", pos_left=\"5%\"),\n",
    "    visualmap_opts=VisualMapOpts(\n",
    "        is_show=True,\n",
    "        min_=min(df_7th[\"户均房间数\"]),\n",
    "        max_=max(df_7th[\"户均房间数\"]),\n",
    "        range_text=[\"高\", \"低\"],\n",
    "        is_calculable=True,\n",
    "        orient=\"vertical\",\n",
    "        pos_left=\"10%\",\n",
    "        pos_top=\"center\",\n",
    "    ),\n",
    ")\n",
    "\n",
    "# 渲染地图并生成HTML\n",
    "map_chart.render(r\"第七次人口普查户均房间数与房间总数地图分布.html\")"
   ]
  },
  {
   "cell_type": "code",
   "execution_count": 19,
   "id": "7e7fdd27-23dc-495c-9862-2774eb81cbac",
   "metadata": {},
   "outputs": [
    {
     "name": "stdout",
     "output_type": "stream",
     "text": [
      "Requirement already satisfied: pyecharts in d:\\anaconda\\lib\\site-packages (2.0.5)\n",
      "Requirement already satisfied: pyecharts_snapshot in d:\\anaconda\\lib\\site-packages (0.2.0)\n",
      "Requirement already satisfied: jinja2 in d:\\anaconda\\lib\\site-packages (from pyecharts) (3.1.3)\n",
      "Requirement already satisfied: prettytable in d:\\anaconda\\lib\\site-packages (from pyecharts) (3.10.0)\n",
      "Requirement already satisfied: simplejson in d:\\anaconda\\lib\\site-packages (from pyecharts) (3.19.2)\n",
      "Requirement already satisfied: pillow in d:\\anaconda\\lib\\site-packages (from pyecharts_snapshot) (10.2.0)\n",
      "Requirement already satisfied: pyppeteer>=0.0.25 in d:\\anaconda\\lib\\site-packages (from pyecharts_snapshot) (2.0.0)\n",
      "Requirement already satisfied: appdirs<2.0.0,>=1.4.3 in d:\\anaconda\\lib\\site-packages (from pyppeteer>=0.0.25->pyecharts_snapshot) (1.4.4)\n",
      "Requirement already satisfied: certifi>=2023 in d:\\anaconda\\lib\\site-packages (from pyppeteer>=0.0.25->pyecharts_snapshot) (2024.2.2)\n",
      "Requirement already satisfied: importlib-metadata>=1.4 in d:\\anaconda\\lib\\site-packages (from pyppeteer>=0.0.25->pyecharts_snapshot) (7.0.1)\n",
      "Requirement already satisfied: pyee<12.0.0,>=11.0.0 in d:\\anaconda\\lib\\site-packages (from pyppeteer>=0.0.25->pyecharts_snapshot) (11.1.0)\n",
      "Requirement already satisfied: tqdm<5.0.0,>=4.42.1 in d:\\anaconda\\lib\\site-packages (from pyppeteer>=0.0.25->pyecharts_snapshot) (4.65.0)\n",
      "Requirement already satisfied: urllib3<2.0.0,>=1.25.8 in d:\\anaconda\\lib\\site-packages (from pyppeteer>=0.0.25->pyecharts_snapshot) (1.26.18)\n",
      "Requirement already satisfied: websockets<11.0,>=10.0 in d:\\anaconda\\lib\\site-packages (from pyppeteer>=0.0.25->pyecharts_snapshot) (10.4)\n",
      "Requirement already satisfied: MarkupSafe>=2.0 in d:\\anaconda\\lib\\site-packages (from jinja2->pyecharts) (2.1.3)\n",
      "Requirement already satisfied: wcwidth in d:\\anaconda\\lib\\site-packages (from prettytable->pyecharts) (0.2.5)\n",
      "Requirement already satisfied: zipp>=0.5 in d:\\anaconda\\lib\\site-packages (from importlib-metadata>=1.4->pyppeteer>=0.0.25->pyecharts_snapshot) (3.17.0)\n",
      "Requirement already satisfied: typing-extensions in d:\\anaconda\\lib\\site-packages (from pyee<12.0.0,>=11.0.0->pyppeteer>=0.0.25->pyecharts_snapshot) (4.9.0)\n",
      "Requirement already satisfied: colorama in d:\\anaconda\\lib\\site-packages (from tqdm<5.0.0,>=4.42.1->pyppeteer>=0.0.25->pyecharts_snapshot) (0.4.6)\n",
      "Note: you may need to restart the kernel to use updated packages.\n"
     ]
    }
   ],
   "source": [
    "pip install pyecharts pyecharts_snapshot"
   ]
  },
  {
   "cell_type": "code",
   "execution_count": 33,
   "id": "5f582053-3ae6-494a-a478-59e087c13276",
   "metadata": {},
   "outputs": [
    {
     "data": {
      "text/plain": [
       "'C:\\\\Users\\\\鋆\\\\Desktop\\\\可视化课设\\\\户均房间数前十的省份条形图.html'"
      ]
     },
     "execution_count": 33,
     "metadata": {},
     "output_type": "execute_result"
    }
   ],
   "source": [
    "import pandas as pd\n",
    "import pyecharts.options as opts\n",
    "from pyecharts.charts import Bar\n",
    "#数据导入与预处理\n",
    "df_7th = pd.read_excel(r'数据集\\第七次人口普查\\A0801.xls',header=4)\n",
    "df_7th=df_7th.dropna()\n",
    "current_columns = df_7th.columns.tolist()\n",
    "current_columns [0]='地区'\n",
    "df_7th.columns = current_columns\n",
    "df_7th.drop(index=1, inplace=True)\n",
    "# 计算房间总数的新列\n",
    "df_7th[\"房间总数\"] = 0\n",
    "for i in range(start_column_index, start_column_index + 10):  # 假设从'n'列开始连续10列\n",
    "    df_7th[\"房间总数\"] += (i - start_column_index + 1) * df_7th.iloc[:, i]\n",
    "\n",
    "# 假设\"户数\"列的索引为m，根据实际情况调整m的值\n",
    "household_count_column_index = 1\n",
    "df_7th[\"户均房间数\"] = df_7th[\"房间总数\"] / df_7th.iloc[:, household_count_column_index]\n",
    "\n",
    "# 对数据按户均房间数进行降序排序并选择前10个\n",
    "top_10_provinces = df_7th.nlargest(10, \"户均房间数\")\n",
    "\n",
    "# 准备用于绘制条形图的数据，这里我们逆序排列省份，使大值在上\n",
    "province_names = top_10_provinces[\"地区\"].tolist()[::-1]  # 使用 [::-1] 来逆序列表\n",
    "avg_rooms = top_10_provinces[\"户均房间数\"].tolist()[::-1]  # 同样逆序房间数列表以保持数据对应\n",
    "\n",
    "# 创建横向条形图\n",
    "bar = (\n",
    "    Bar(init_opts=opts.InitOpts(width=\"1200px\", height=\"600px\"))\n",
    "    .add_xaxis(province_names)  # 添加逆序后的X轴数据（省份名称）\n",
    "    .add_yaxis(\"户均房间数\", avg_rooms, category_gap=\"50%\")  # 添加逆序后的Y轴数据（户均房间数），设置分类间的间隙\n",
    "    .reversal_axis()  # 交换X轴和Y轴，以实现横向条形图\n",
    "    .set_global_opts(\n",
    "    title_opts=opts.TitleOpts(title=\"第七次人口普查户均房间数前十的省份\", pos_left='center'),\n",
    "    toolbox_opts=opts.ToolboxOpts(),\n",
    "    legend_opts=opts.LegendOpts(pos_bottom=\"10%\"),  # 尝试设置图例位置在底部，距离底部10%\n",
    ")\n",
    "    .set_series_opts(label_opts=opts.LabelOpts(position=\"right\"))  # 调整标签位置到条形的右侧\n",
    ")\n",
    "bar.width = \"450px\" \n",
    "bar.height = \"300px\"\n",
    "# 渲染图表并生成HTML文件\n",
    "bar.render(r\"户均房间数前十的省份条形图.html\",width=bar.width, height=bar.height)"
   ]
  },
  {
   "cell_type": "code",
   "execution_count": 34,
   "id": "028ed828-b1f0-40e2-9552-cee2a7fbe4a7",
   "metadata": {},
   "outputs": [
    {
     "name": "stdout",
     "output_type": "stream",
     "text": [
      "           一间           二间           三间          四间          五间          六间  \\\n",
      "1  55759921.0  127379196.0  145912661.0  60207196.0  28888798.0  23153478.0   \n",
      "\n",
      "          七间         八间         九间      十间及以上  \n",
      "1  5793990.0  8764039.0  3024611.0  6357821.0  \n"
     ]
    },
    {
     "data": {
      "text/plain": [
       "'C:\\\\Users\\\\鋆\\\\Desktop\\\\可视化课设\\\\全国户占间数统计柱状图.html'"
      ]
     },
     "execution_count": 34,
     "metadata": {},
     "output_type": "execute_result"
    }
   ],
   "source": [
    "import pandas as pd\n",
    "from pyecharts.charts import Bar\n",
    "from pyecharts.options import TitleOpts, AxisOpts, LabelOpts\n",
    "from pyecharts.globals import CurrentConfig, ThemeType\n",
    "from pyecharts import options as opts  # 确保opts已导入\n",
    "\n",
    "CurrentConfig.GLOBAL_THEME = ThemeType.WHITE\n",
    "\n",
    "# 数据导入与预处理\n",
    "df_7th = pd.read_excel(r'数据集\\第七次人口普查\\A0801_2.xls',header=4)\n",
    "df_7th = df_7th.dropna().head(1)\n",
    "df_7th = df_7th.drop(columns='户  数')\n",
    "df_7th= df_7th[df_7th.columns[1:]]\n",
    "\n",
    "print(df_7th)\n",
    "# 提取列名和数据\n",
    "column_labels = df_7th.columns.tolist()\n",
    "column_values = df_7th.values.flatten().tolist()\n",
    "\n",
    "# 初始化 Bar 图\n",
    "bar = Bar()\n",
    "\n",
    "# 添加数据\n",
    "bar.add_xaxis(column_labels)\n",
    "bar.add_yaxis(\"全国数据分布\", column_values, bar_width=\"60%\",category_gap=\"1%\",gap=\"5%\", \n",
    "              label_opts=LabelOpts(position=\"top\"))  # 标签位置设置在顶部\n",
    "# 设置全局配置项\n",
    "bar.set_global_opts(\n",
    "    legend_opts=opts.LegendOpts(pos_top=\"5%\", pos_left=\"5%\"),\n",
    "    title_opts=TitleOpts(title=\"第七次人口普查全国户占间数统计柱状图\",pos_left='center'),\n",
    "    xaxis_opts=opts.AxisOpts(name_gap=30),\n",
    "    # 自定义y轴formatter函数，将数值转化为'x万'形式\n",
    "    yaxis_opts=AxisOpts(\n",
    "        name=\"户数\",\n",
    "        position='right',\n",
    "        axislabel_opts=opts.LabelOpts(rotate=-60)\n",
    "    ),\n",
    "    datazoom_opts=[opts.DataZoomOpts(range_start=0, range_end=100)],\n",
    ")\n",
    "\n",
    "bar.width = \"580px\" \n",
    "bar.height = \"280px\"\n",
    "# 渲染图表\n",
    "bar.render(r\"全国户占间数统计柱状图.html\",width=bar.width, height=bar.height)"
   ]
  },
  {
   "cell_type": "code",
   "execution_count": 35,
   "id": "bd8ae494-d2e9-477f-9042-37606bb0dba1",
   "metadata": {},
   "outputs": [
    {
     "data": {
      "text/plain": [
       "'C:\\\\Users\\\\鋆\\\\Desktop\\\\可视化课设\\\\户主受教育程度与家庭人均住房面积关系热力图.html'"
      ]
     },
     "execution_count": 35,
     "metadata": {},
     "output_type": "execute_result"
    }
   ],
   "source": [
    "import pandas as pd\n",
    "from pyecharts import options as opts\n",
    "from pyecharts.charts import HeatMap\n",
    "\n",
    "df_7th = pd.read_excel(r'数据集\\第七次人口普查\\A0805.xls',header=4)\n",
    "df_7th = df_7th.dropna()\n",
    "current_columns = df_7th.columns.tolist()\n",
    "current_columns [0]='户主受教育程度'\n",
    "current_columns [1]='户  数'\n",
    "df_7th.columns = current_columns\n",
    "df_7th.drop(index=1, inplace=True)\n",
    "df_7th=df_7th.drop(columns='户  数')\n",
    "\n",
    "\n",
    "df_heatmap = df_7th.set_index(df_7th.columns[0]).T\n",
    "#获取列名\n",
    "categories = list(df_heatmap.index)\n",
    "# 获取受教育程度列表\n",
    "dimensions = list(df_heatmap.columns)\n",
    "\n",
    "# 假设除了第一列（受教育程度）外，其他列都是数值型数据\n",
    "numeric_columns = df_7th.columns[1:]  # 获取所有数值列\n",
    "transposed_data = df_7th[numeric_columns].T  # 转置数值数据\n",
    "\n",
    "# 准备热力图数据，确保每个数据点包含（横轴维度，纵轴分类，值）\n",
    "data = []  \n",
    "for category in categories:  # 对于每一个受教育程度类别\n",
    "    for dimension in dimensions:  # 遍历每一个数值列（横轴）\n",
    "        value = df_heatmap.loc[category, dimension]\n",
    "        data.append([dimension, category, value])\n",
    "\n",
    "# 创建热力图实例\n",
    "heatmap = (\n",
    "    HeatMap()\n",
    "    .add_xaxis(dimensions)  # 数值列名作为横轴\n",
    "    .add_yaxis(\"受教育程度\", categories, data,  # 受教育程度作为纵轴分类，传入修正后的data\n",
    "               label_opts=opts.LabelOpts(is_show=True))  # 显示标签以检查数据点是否正确\n",
    "    .set_global_opts(\n",
    "        legend_opts=opts.LegendOpts(pos_top=\"5%\", pos_right=\"5%\"),\n",
    "        title_opts=opts.TitleOpts(title=\"第七次人口普查户主受教育程度与家庭人均住房面积关系热力图\",pos_left='center'),\n",
    "        visualmap_opts=opts.VisualMapOpts(min_=transposed_data.min().min(), max_=transposed_data.max().max()),  # 明确指定视觉映射范围\n",
    "    )\n",
    ")\n",
    "\n",
    "# 渲染图表\n",
    "heatmap.render(r\"户主受教育程度与家庭人均住房面积关系热力图.html\",width='900px', height='400px')"
   ]
  },
  {
   "cell_type": "code",
   "execution_count": 36,
   "id": "1073dfdc-cdb0-4443-986e-dc40a8b0f674",
   "metadata": {
    "scrolled": true
   },
   "outputs": [
    {
     "name": "stdout",
     "output_type": "stream",
     "text": [
      "    受教育程度 人均住房间数 人均住房建筑面积\n",
      "4    未上过学   1.35    43.41\n",
      "5    学前教育   1.38    46.31\n",
      "6    小  学   1.25    41.87\n",
      "7    初  中   1.15    39.26\n",
      "8    高  中   1.07    38.67\n",
      "9    大学专科   1.02     38.9\n",
      "10   大学本科   1.01    39.92\n",
      "11  硕士研究生   0.98     39.7\n",
      "12  博士研究生   0.99    40.08\n"
     ]
    },
    {
     "data": {
      "text/plain": [
       "'C:\\\\Users\\\\鋆\\\\Desktop\\\\可视化课设\\\\户主受教育程度与人均住房建筑面积关系柱形图.html'"
      ]
     },
     "execution_count": 36,
     "metadata": {},
     "output_type": "execute_result"
    }
   ],
   "source": [
    "from pyecharts import options as opts\n",
    "import pandas as pd\n",
    "from pyecharts.charts import Map\n",
    "from pyecharts.options import TitleOpts, LabelOpts\n",
    "# 加载数据\n",
    "df_7th = pd.read_excel(r'数据集\\第七次人口普查\\A0804.xls', header=2)\n",
    "df_7th = df_7th.dropna()\n",
    "df_7th = df_7th.iloc[:, [0, -1, -2]]\n",
    "\n",
    "# 准备数据\n",
    "current_columns = df_7th.columns.tolist()\n",
    "current_columns[2] = '人均住房建筑面积'\n",
    "current_columns[1] = '人均住房间数'\n",
    "df_7th.columns = current_columns\n",
    "df_7th.drop(index=3, inplace=True)\n",
    "print(df_7th)\n",
    "\n",
    "def draw_bar_chart(dataframe, x_axis_column_name, y_axis_column_name):\n",
    "    bar = (\n",
    "        Bar()\n",
    "        .add_xaxis(dataframe[x_axis_column_name].tolist())\n",
    "        .add_yaxis(\n",
    "            series_name=\"\",  # 添加系列名称，虽然为空，但作为占位符保持结构完整\n",
    "            y_axis=dataframe[y_axis_column_name].tolist(),\n",
    "            label_opts=opts.LabelOpts(is_show=True),\n",
    "        )\n",
    "        .set_global_opts(\n",
    "            title_opts=opts.TitleOpts(\n",
    "                title=f\"{y_axis_column_name}与受教育程度的关系\",\n",
    "                pos_left='center',\n",
    "                title_textstyle_opts=opts.TextStyleOpts(font_size=14),\n",
    "            ),\n",
    "            xaxis_opts=opts.AxisOpts(axislabel_opts=opts.LabelOpts(rotate=45)),  # 添加旋转以改善显示效果\n",
    "            yaxis_opts=opts.AxisOpts(name=f\"{y_axis_column_name}\",axislabel_opts=opts.LabelOpts(formatter=lambda x: f'{x:.2f}')),\n",
    "        )\n",
    "    )\n",
    "    return bar\n",
    "\n",
    "bar_rooms = draw_bar_chart(df_7th, \"受教育程度\", \"人均住房间数\")\n",
    "bar_area = draw_bar_chart(df_7th, \"受教育程度\", \"人均住房建筑面积\")\n",
    "bar_rooms.width = \"250px\" \n",
    "bar_rooms.height = \"280px\"\n",
    "bar_area.width = \"250px\" \n",
    "bar_area.height = \"280px\"\n",
    "# 渲染图表\n",
    "bar_rooms.render(r\"户主受教育程度与人均住房间数关系柱形图.html\",width=bar_rooms.width, height=bar_rooms.height) \n",
    "bar_area.render(r\"户主受教育程度与人均住房建筑面积关系柱形图.html\",width=bar_area.width, height=bar_area.height) #保存为HTML文件\n"
   ]
  },
  {
   "cell_type": "code",
   "execution_count": null,
   "id": "3eb84337-211e-4e0b-9f77-00dfa569ca8d",
   "metadata": {},
   "outputs": [],
   "source": []
  }
 ],
 "metadata": {
  "kernelspec": {
   "display_name": "Python 3 (ipykernel)",
   "language": "python",
   "name": "python3"
  },
  "language_info": {
   "codemirror_mode": {
    "name": "ipython",
    "version": 3
   },
   "file_extension": ".py",
   "mimetype": "text/x-python",
   "name": "python",
   "nbconvert_exporter": "python",
   "pygments_lexer": "ipython3",
   "version": "3.11.7"
  }
 },
 "nbformat": 4,
 "nbformat_minor": 5
}
